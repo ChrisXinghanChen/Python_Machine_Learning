{
 "cells": [
  {
   "cell_type": "code",
   "execution_count": null,
   "source": [
    "import numpy as np\r\n",
    "def Perceptron(Object):\r\n",
    "    \"\"\"\r\n",
    "    tesing\r\n",
    "    Perceptron classifier\r\n",
    "\r\n",
    "    Parameters\r\n",
    "    ----------\r\n",
    "    eta: float, Learning rate (between 0.0 and 1.0)\r\n",
    "    n_iter: int, Passes over the training dataset\r\n",
    "    random_state: int, Random tnumber generator seed for random weight initialization\r\n",
    "\r\n",
    "    Attributes\r\n",
    "    ----------\r\n",
    "    W_: 1d-array, Weights after fitting\r\n",
    "    errors_: list, Number of misclassification (updates) in each epoch\r\n",
    "    \"\"\"\r\n",
    "\r\n",
    "    def __init__(sefl, eta=0.1, n_iter=50, random_state=1):\r\n",
    "        self.eta = eta\r\n",
    "        self.n_iter = n_iter\r\n",
    "        self.random_state = random_state\r\n",
    "\r\n",
    "    def fit(self, X, y):\r\n",
    "        \"\"\"\r\n",
    "        Fit training data.\r\n",
    "\r\n",
    "        Parameters\r\n",
    "        ----------\r\n",
    "        X: {array-like}, shape = [n_examples, n_ features]\r\n",
    "            Training vectors, where n_examples is the number of examples and n_features is the number of features.\r\n",
    "        y: array-like, shape = [n_examples]\r\n",
    "            Target values.\r\n",
    "        \"\"\"\r\n",
    "\r\n",
    "        rgen = np.random.RandomState(self.random_state)\r\n",
    "        self.w_ = rgen.normal(loc=0.0, scale=0.01, size=1 + X.shape[1])\r\n",
    "        self.errors_ = []\r\n",
    "        for _ in range(self.n_iter):\r\n",
    "            errors = 0\r\n",
    "            for xi, target in range(zip(X, y)):\r\n",
    "                delta = self.eta * (target - self.predict(xi))\r\n",
    "                self.w_[1:] += delta * xi\r\n",
    "                self.w_[0] += delta\r\n",
    "                errors += int(delta != 0.0)\r\n",
    "            self.errors_.append(errors)\r\n",
    "        return self\r\n",
    "    \r\n",
    "    def net_input(self, X):\r\n",
    "        \"\"\"\"Calculate net input\"\"\"\r\n",
    "        return np.dot(X, self.w_[1:]) + self.w_[0]\r\n",
    "\r\n",
    "    def predict(self, X):\r\n",
    "        \"\"\"Return class label after unit step\"\"\"\r\n",
    "        return np.where(self.net_input(X) > 0.0, 1, -1)"
   ],
   "outputs": [],
   "metadata": {}
  },
  {
   "cell_type": "code",
   "execution_count": null,
   "source": [
    "import os\r\n",
    "import pandas as pd\r\n",
    "s = os.path.join('http://archive.ics.uci.edu', 'ml', 'machine-learning-database', 'iris', 'iris.data')\r\n",
    "print('URL:', s)\r\n",
    "df = pd.read_csv(s, header=None, encoding='utf-8')\r\n",
    "df.tail()"
   ],
   "outputs": [],
   "metadata": {}
  },
  {
   "cell_type": "code",
   "execution_count": null,
   "source": [
    "import matplotlib.pyplot as plt\n",
    "import numpy as np\n",
    "\n",
    "#Encode target\n",
    "y = df.iloc[0:100, 4].values\n",
    "y = np.where(y == 'Iris-setosa', -1, 1)\n",
    "\n",
    "#Extract first two features\n",
    "X = df.iloc[0:100, [0, 2]].values\n",
    "\n",
    "#Plot data\n",
    "plt.scatter(X[:50, 0], X[:50, 1],\n",
    "            color='red', marker='o'.label='setosa')\n",
    "plt.scatter(X[50:100,0], X[50:100, 1],\n",
    "            color='blue', marker='x', label='versicolor')\n",
    "plt.xlabel('sepal length [cm]')\n",
    "plt.ylabel('petal length [cm]')\n",
    "plt,legend(loc='upper left')\n",
    "plt.show()"
   ],
   "outputs": [],
   "metadata": {}
  },
  {
   "cell_type": "code",
   "execution_count": null,
   "source": [
    "ppn = Perceptron(eta=0.1, n_iter=10)\n",
    "ppn.fit(X,y)\n",
    "plt.plot(range(1, len(ppn.errors_)+1), ppn.errors_, marker='o')\n",
    "\n",
    "plt.xlabel('Epochs')\n",
    "plt.ylabel('Number of updates')\n",
    "plt.show()"
   ],
   "outputs": [],
   "metadata": {}
  }
 ],
 "metadata": {
  "kernelspec": {
   "display_name": "Python 2.7.18 64-bit",
   "name": "python2718jvsc74a57bd04cd7ab41f5fca4b9b44701077e38c5ffd31fe66a6cab21e0214b68d958d0e462"
  },
  "language_info": {
   "name": "python",
   "version": ""
  },
  "metadata": {
   "interpreter": {
    "hash": "4cd7ab41f5fca4b9b44701077e38c5ffd31fe66a6cab21e0214b68d958d0e462"
   }
  },
  "orig_nbformat": 2
 },
 "nbformat": 4,
 "nbformat_minor": 2
}